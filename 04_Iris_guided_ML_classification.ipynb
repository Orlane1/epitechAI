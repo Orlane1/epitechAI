{
  "nbformat": 4,
  "nbformat_minor": 0,
  "metadata": {
    "kernelspec": {
      "display_name": "Python 3",
      "language": "python",
      "name": "python3"
    },
    "language_info": {
      "codemirror_mode": {
        "name": "ipython",
        "version": 3
      },
      "file_extension": ".py",
      "mimetype": "text/x-python",
      "name": "python",
      "nbconvert_exporter": "python",
      "pygments_lexer": "ipython3",
      "version": "3.7.3"
    },
    "colab": {
      "name": "04_Iris_guided_ML_classification.ipynb",
      "provenance": [],
      "include_colab_link": true
    }
  },
  "cells": [
    {
      "cell_type": "markdown",
      "metadata": {
        "id": "view-in-github",
        "colab_type": "text"
      },
      "source": [
        "<a href=\"https://colab.research.google.com/github/Orlane1/epitechAI/blob/master/04_Iris_guided_ML_classification.ipynb\" target=\"_parent\"><img src=\"https://colab.research.google.com/assets/colab-badge.svg\" alt=\"Open In Colab\"/></a>"
      ]
    },
    {
      "cell_type": "markdown",
      "metadata": {
        "id": "SUxond12nrNp",
        "colab_type": "text"
      },
      "source": [
        "<!--NAVIGATION-->\n",
        "\n",
        "<a href=\"https://colab.research.google.com/github/bpesquet/machine-learning-katas/blob/master/classic-datasets/Iris.ipynb\"><img align=\"left\" src=\"https://colab.research.google.com/assets/colab-badge.svg\" alt=\"Open in Colab\" title=\"Open in Google Colaboratory\"></a>"
      ]
    },
    {
      "cell_type": "markdown",
      "metadata": {
        "id": "jvuSvr7xnrNs",
        "colab_type": "text"
      },
      "source": [
        "# Guided ML With The Iris Dataset\n",
        "\n",
        "| Learning type | Activity type | Objective |\n",
        "| - | - | - |\n",
        "| Supervised | Multiclass classification | Identify a flower's class |\n",
        "\n",
        "Contents:\n",
        "1. Loading the data\n",
        "2. Setting up supervised learning problem (selecting features)\n",
        "3. Creating a first model\n",
        "    - Creating train and test datasets\n",
        "    - Normalizing train and test\n",
        "    - Fitting and predicting\n",
        "4. Evaluate the frist model predictions\n",
        "5. Crossvalidation of the model\n",
        "6. Creating an end to end ML pipeline\n",
        "    - Train/Test Split\n",
        "    - Normalize\n",
        "    - Crossvalidations\n",
        "    - Model\n",
        "    - fitting and predicting"
      ]
    },
    {
      "cell_type": "markdown",
      "metadata": {
        "id": "vfsP6zYdnrNw",
        "colab_type": "text"
      },
      "source": [
        "## Instructions with NBGrader removed\n",
        "\n",
        "Complete the cells beginning with `# YOUR CODE HERE` and run the subsequent cells to check your code."
      ]
    },
    {
      "cell_type": "markdown",
      "metadata": {
        "id": "7M2_cJhNnrNx",
        "colab_type": "text"
      },
      "source": [
        "## About the dataset\n",
        "\n",
        "[Iris](https://archive.ics.uci.edu/ml/datasets/iris) is a well-known multiclass dataset. It contains 3 classes of flowers with 50 examples each. There are a total of 4 features for each flower.\n",
        "\n",
        "![](https://github.com/jcllobet/epitech/blob/master/02_Machine_Learning/03_Intro_to_ML/exercises/classic-datasets/images/Iris-versicolor-21_1.jpg?raw=1)"
      ]
    },
    {
      "cell_type": "markdown",
      "metadata": {
        "id": "VcQGs3nNnrNz",
        "colab_type": "text"
      },
      "source": [
        "# Sanity Check\n",
        "In case you are not in the right anaconda environ"
      ]
    },
    {
      "cell_type": "code",
      "metadata": {
        "id": "Qb7YFuC-nrN0",
        "colab_type": "code",
        "outputId": "4d6f027c-c167-4c6c-900b-0b1c394ff942",
        "colab": {
          "base_uri": "https://localhost:8080/",
          "height": 34
        }
      },
      "source": [
        "#to debug package errors\n",
        "import sys\n",
        "sys.path\n",
        "sys.executable"
      ],
      "execution_count": 0,
      "outputs": [
        {
          "output_type": "execute_result",
          "data": {
            "text/plain": [
              "'/usr/bin/python3'"
            ]
          },
          "metadata": {
            "tags": []
          },
          "execution_count": 1
        }
      ]
    },
    {
      "cell_type": "markdown",
      "metadata": {
        "id": "ZLNWKtuVnrN6",
        "colab_type": "text"
      },
      "source": [
        "## Package setups\n",
        "\n",
        "1. Run the following two cells to initalize the required libraries. "
      ]
    },
    {
      "cell_type": "code",
      "metadata": {
        "id": "f1hRtWIjnrN8",
        "colab_type": "code",
        "colab": {}
      },
      "source": [
        "# Import needed packages\n",
        "# You may add or remove packages should you need them\n",
        "import numpy as np\n",
        "import matplotlib\n",
        "import matplotlib.pyplot as plt\n",
        "import seaborn as sns\n",
        "import pandas as pd\n",
        "from sklearn import datasets\n",
        "from sklearn import preprocessing\n",
        "from sklearn.linear_model import LogisticRegression\n",
        "from sklearn.model_selection import train_test_split, cross_validate\n",
        "from sklearn.pipeline import make_pipeline\n",
        "\n",
        "# Set random seed\n",
        "np.random.seed(0)\n",
        "\n",
        "# Display plots inline and change plot resolution to retina\n",
        "%matplotlib inline\n",
        "%config InlineBackend.figure_format = 'retina'\n",
        "# Set Seaborn aesthetic parameters to defaults\n",
        "sns.set()"
      ],
      "execution_count": 0,
      "outputs": []
    },
    {
      "cell_type": "code",
      "metadata": {
        "id": "2ndnVTzUnrOA",
        "colab_type": "code",
        "colab": {}
      },
      "source": [
        ""
      ],
      "execution_count": 0,
      "outputs": []
    },
    {
      "cell_type": "markdown",
      "metadata": {
        "id": "PbSAiUbUnrOF",
        "colab_type": "text"
      },
      "source": [
        "## Step 1: Loading the data\n",
        "\n",
        "1. Load the iris dataset using ```datasets.load_iris()```\n",
        "2. Investigate the data structure with ```.keys()```\n",
        "3. Construct a dataframe from the dataset\n",
        "4. Create a 'target' and a 'class' column that contains the target names and values\n",
        "5. Display a random sample of the dataframe "
      ]
    },
    {
      "cell_type": "code",
      "metadata": {
        "id": "0vl5pfCmnrOG",
        "colab_type": "code",
        "outputId": "7e936fe3-1b57-49a9-e98b-c3fc672d0a81",
        "colab": {
          "base_uri": "https://localhost:8080/",
          "height": 34
        }
      },
      "source": [
        "iris = datasets.load_iris()\n",
        "dict_keys = iris.keys()\n",
        "print(dict_keys)"
      ],
      "execution_count": 0,
      "outputs": [
        {
          "output_type": "stream",
          "text": [
            "dict_keys(['data', 'target', 'target_names', 'DESCR', 'feature_names', 'filename'])\n"
          ],
          "name": "stdout"
        }
      ]
    },
    {
      "cell_type": "code",
      "metadata": {
        "id": "kHRERibsnrOK",
        "colab_type": "code",
        "outputId": "872ac3ca-9500-4c4b-d4dc-7f5caf031fff",
        "colab": {
          "base_uri": "https://localhost:8080/",
          "height": 359
        }
      },
      "source": [
        "df_iris = pd.DataFrame(iris['data'], columns=iris['feature_names'])\n",
        "df_iris['target'] = iris['target']\n",
        "df_iris['class'] = iris['target_names'][iris['target']]\n",
        "#df_iris = df_iris[['target'=iris['target'], 'class'=iris['target_names']]]\n",
        "df_iris.sample(10)"
      ],
      "execution_count": 0,
      "outputs": [
        {
          "output_type": "execute_result",
          "data": {
            "text/html": [
              "<div>\n",
              "<style scoped>\n",
              "    .dataframe tbody tr th:only-of-type {\n",
              "        vertical-align: middle;\n",
              "    }\n",
              "\n",
              "    .dataframe tbody tr th {\n",
              "        vertical-align: top;\n",
              "    }\n",
              "\n",
              "    .dataframe thead th {\n",
              "        text-align: right;\n",
              "    }\n",
              "</style>\n",
              "<table border=\"1\" class=\"dataframe\">\n",
              "  <thead>\n",
              "    <tr style=\"text-align: right;\">\n",
              "      <th></th>\n",
              "      <th>sepal length (cm)</th>\n",
              "      <th>sepal width (cm)</th>\n",
              "      <th>petal length (cm)</th>\n",
              "      <th>petal width (cm)</th>\n",
              "      <th>target</th>\n",
              "      <th>class</th>\n",
              "    </tr>\n",
              "  </thead>\n",
              "  <tbody>\n",
              "    <tr>\n",
              "      <th>92</th>\n",
              "      <td>5.8</td>\n",
              "      <td>2.6</td>\n",
              "      <td>4.0</td>\n",
              "      <td>1.2</td>\n",
              "      <td>1</td>\n",
              "      <td>versicolor</td>\n",
              "    </tr>\n",
              "    <tr>\n",
              "      <th>141</th>\n",
              "      <td>6.9</td>\n",
              "      <td>3.1</td>\n",
              "      <td>5.1</td>\n",
              "      <td>2.3</td>\n",
              "      <td>2</td>\n",
              "      <td>virginica</td>\n",
              "    </tr>\n",
              "    <tr>\n",
              "      <th>130</th>\n",
              "      <td>7.4</td>\n",
              "      <td>2.8</td>\n",
              "      <td>6.1</td>\n",
              "      <td>1.9</td>\n",
              "      <td>2</td>\n",
              "      <td>virginica</td>\n",
              "    </tr>\n",
              "    <tr>\n",
              "      <th>119</th>\n",
              "      <td>6.0</td>\n",
              "      <td>2.2</td>\n",
              "      <td>5.0</td>\n",
              "      <td>1.5</td>\n",
              "      <td>2</td>\n",
              "      <td>virginica</td>\n",
              "    </tr>\n",
              "    <tr>\n",
              "      <th>48</th>\n",
              "      <td>5.3</td>\n",
              "      <td>3.7</td>\n",
              "      <td>1.5</td>\n",
              "      <td>0.2</td>\n",
              "      <td>0</td>\n",
              "      <td>setosa</td>\n",
              "    </tr>\n",
              "    <tr>\n",
              "      <th>143</th>\n",
              "      <td>6.8</td>\n",
              "      <td>3.2</td>\n",
              "      <td>5.9</td>\n",
              "      <td>2.3</td>\n",
              "      <td>2</td>\n",
              "      <td>virginica</td>\n",
              "    </tr>\n",
              "    <tr>\n",
              "      <th>122</th>\n",
              "      <td>7.7</td>\n",
              "      <td>2.8</td>\n",
              "      <td>6.7</td>\n",
              "      <td>2.0</td>\n",
              "      <td>2</td>\n",
              "      <td>virginica</td>\n",
              "    </tr>\n",
              "    <tr>\n",
              "      <th>63</th>\n",
              "      <td>6.1</td>\n",
              "      <td>2.9</td>\n",
              "      <td>4.7</td>\n",
              "      <td>1.4</td>\n",
              "      <td>1</td>\n",
              "      <td>versicolor</td>\n",
              "    </tr>\n",
              "    <tr>\n",
              "      <th>26</th>\n",
              "      <td>5.0</td>\n",
              "      <td>3.4</td>\n",
              "      <td>1.6</td>\n",
              "      <td>0.4</td>\n",
              "      <td>0</td>\n",
              "      <td>setosa</td>\n",
              "    </tr>\n",
              "    <tr>\n",
              "      <th>64</th>\n",
              "      <td>5.6</td>\n",
              "      <td>2.9</td>\n",
              "      <td>3.6</td>\n",
              "      <td>1.3</td>\n",
              "      <td>1</td>\n",
              "      <td>versicolor</td>\n",
              "    </tr>\n",
              "  </tbody>\n",
              "</table>\n",
              "</div>"
            ],
            "text/plain": [
              "     sepal length (cm)  sepal width (cm)  ...  target       class\n",
              "92                 5.8               2.6  ...       1  versicolor\n",
              "141                6.9               3.1  ...       2   virginica\n",
              "130                7.4               2.8  ...       2   virginica\n",
              "119                6.0               2.2  ...       2   virginica\n",
              "48                 5.3               3.7  ...       0      setosa\n",
              "143                6.8               3.2  ...       2   virginica\n",
              "122                7.7               2.8  ...       2   virginica\n",
              "63                 6.1               2.9  ...       1  versicolor\n",
              "26                 5.0               3.4  ...       0      setosa\n",
              "64                 5.6               2.9  ...       1  versicolor\n",
              "\n",
              "[10 rows x 6 columns]"
            ]
          },
          "metadata": {
            "tags": []
          },
          "execution_count": 18
        }
      ]
    },
    {
      "cell_type": "markdown",
      "metadata": {
        "id": "sqlMW9mPnrOO",
        "colab_type": "text"
      },
      "source": [
        "### Question\n",
        "Find the X and y values we're looking for. Notice that y is categorical and thus, we could **one-hot encode it** if we are looking at **class** or we can just pick **target**. In order to one hot encode we have  to re-shape `y` it using the **.get_dummies** function. \n",
        "\n",
        "#### For the purpose of this exercise, do not use hot encoding, go only for target but think about if you have to drop it somewhere or not..."
      ]
    },
    {
      "cell_type": "code",
      "metadata": {
        "id": "gD8IINi_nrOP",
        "colab_type": "code",
        "outputId": "fd74dd67-062f-4880-f967-67cd779e3502",
        "colab": {}
      },
      "source": [
        "# YOUR CODE HERE\n",
        "\n"
      ],
      "execution_count": 0,
      "outputs": [
        {
          "output_type": "execute_result",
          "data": {
            "text/plain": [
              "0    0\n",
              "1    0\n",
              "2    0\n",
              "3    0\n",
              "4    0\n",
              "Name: target, dtype: int64"
            ]
          },
          "metadata": {
            "tags": []
          },
          "execution_count": 39
        }
      ]
    },
    {
      "cell_type": "markdown",
      "metadata": {
        "id": "wtKxWdgvnrOU",
        "colab_type": "text"
      },
      "source": [
        "## Step 2: Setting up supervised learning problem (selecting features)\n",
        "\n",
        "Feature selection is an essential step in improving a model's perfromance. In the first version of the model we will use the 'sepal length' and 'sepal width' as predicting features. Later we will see the effect of adding additional features.\n",
        "\n",
        "1. Assign the values of the 'target' to Y as a numpy array\n",
        "2. Assign the remaining feature values to X as a numpy array\n",
        "3. Check the shape of X and Y. Check the first few values.\n",
        "    - Can we confirm our X and Y are created correctly?"
      ]
    },
    {
      "cell_type": "code",
      "metadata": {
        "id": "i_Vt3eZ3nrOW",
        "colab_type": "code",
        "outputId": "7b8a2cb0-5889-4fdc-b09e-840ddcc77591",
        "colab": {}
      },
      "source": [
        "#your code here\n"
      ],
      "execution_count": 0,
      "outputs": [
        {
          "output_type": "stream",
          "text": [
            "(150,)\n"
          ],
          "name": "stdout"
        },
        {
          "output_type": "execute_result",
          "data": {
            "text/plain": [
              "array([0, 0, 0, 0, 0])"
            ]
          },
          "metadata": {
            "tags": []
          },
          "execution_count": 16
        }
      ]
    },
    {
      "cell_type": "code",
      "metadata": {
        "id": "I6IIwTHvnrOZ",
        "colab_type": "code",
        "outputId": "7c816c50-eb67-4cf2-a4bc-9f5d6e73c635",
        "colab": {}
      },
      "source": [
        "#your code here\n"
      ],
      "execution_count": 0,
      "outputs": [
        {
          "output_type": "stream",
          "text": [
            "(150, 2)\n"
          ],
          "name": "stdout"
        },
        {
          "output_type": "execute_result",
          "data": {
            "text/plain": [
              "array([[5.1, 3.5],\n",
              "       [4.9, 3. ],\n",
              "       [4.7, 3.2],\n",
              "       [4.6, 3.1],\n",
              "       [5. , 3.6]])"
            ]
          },
          "metadata": {
            "tags": []
          },
          "execution_count": 29
        }
      ]
    },
    {
      "cell_type": "markdown",
      "metadata": {
        "id": "6TFKtIjtnrOe",
        "colab_type": "text"
      },
      "source": [
        "## Step 3: Creating the first model\n",
        "\n",
        "In lecture we learned about creating a train and test datasets, normalizing, and fitting a model. In this step we will see how to build a simple version of this.\n",
        "\n",
        "We have to be careful when constructing our train and test datasets. First, when we create train and test datasets we have to be careful that we always have the same datapoints in each set. Otherwise our results won't be reproduceable or we might introduce a bias into our model.\n",
        "\n",
        "We also need to be attentive to when we normalize the data. What would be the effect of normalizing the data (i.e. with StandardScaler to a range between 0 - 1) before we create our train and test sets? Effectively we would use information in the test set to structure the values in the training set and vice versa. Therefore normalizing train and test independently is the preferred method.\n",
        "\n",
        "1. Create X_train, X_test, Y_train, Y_test using ```train_test_split()``` with an 80/20 train/test split. Look in the SKLearn documentation to understand how the function works.\n",
        "    - Inspect the first few rows of X_train.\n",
        "    - Run the cell a few times. Do the first few rows change?\n",
        "    - What option can we use in ```train_test_split()``` to stop this from happening?\n",
        "2. Normalize the train and test datasets with ```StandardScaler```\n",
        "    - We can fit the transform with ```.fit()``` and ```.transform()``` to apply it. Look in the documentation for an esample of how to do this.\n",
        "    - Does it make sense to normalize Y_train and Y_test?\n",
        "3. Initalize a ```LogisticRegression()``` model and use the ```.fit()``` method to initalize the first model.\n",
        "    - We will pass the X_train and Y_train variables to the ```.fit()``` method.\n",
        "    - Once the model is fit, use the ```.predict()``` with the X_test and save the output as predictions."
      ]
    },
    {
      "cell_type": "code",
      "metadata": {
        "id": "HR0QfIxNnrOg",
        "colab_type": "code",
        "outputId": "afa4f8cc-45c6-4ede-b76b-cb03fed8cf5a",
        "colab": {}
      },
      "source": [
        "#split train and test data 80/20\n",
        "#your code here\n"
      ],
      "execution_count": 0,
      "outputs": [
        {
          "output_type": "execute_result",
          "data": {
            "text/plain": [
              "array([[4.6, 3.6],\n",
              "       [5.7, 4.4],\n",
              "       [6.7, 3.1],\n",
              "       [4.8, 3.4],\n",
              "       [4.4, 3.2]])"
            ]
          },
          "metadata": {
            "tags": []
          },
          "execution_count": 32
        }
      ]
    },
    {
      "cell_type": "code",
      "metadata": {
        "id": "54a6U7_onrOk",
        "colab_type": "code",
        "outputId": "7089a0fe-21f0-4179-cb5a-33633e39fac6",
        "colab": {}
      },
      "source": [
        "#normalize the dataset\n",
        "#your code here\n",
        "\n"
      ],
      "execution_count": 0,
      "outputs": [
        {
          "output_type": "execute_result",
          "data": {
            "text/plain": [
              "array([[-1.47393679,  1.20365799],\n",
              "       [-0.13307079,  2.99237573],\n",
              "       [ 1.08589829,  0.08570939],\n",
              "       [-1.23014297,  0.75647855],\n",
              "       [-1.7177306 ,  0.30929911]])"
            ]
          },
          "metadata": {
            "tags": []
          },
          "execution_count": 33
        }
      ]
    },
    {
      "cell_type": "code",
      "metadata": {
        "id": "MPr2oUcAnrOp",
        "colab_type": "code",
        "outputId": "f51cdc0e-311c-4d0f-8235-c1fe82204c1c",
        "colab": {}
      },
      "source": [
        "#initalize and fit with Logistic Regression\n",
        "#your code here\n",
        "\n"
      ],
      "execution_count": 0,
      "outputs": [
        {
          "output_type": "execute_result",
          "data": {
            "text/plain": [
              "array([1, 0, 2, 1, 2, 0, 1, 2, 1, 1, 2, 0, 0, 0, 0, 2, 2, 1, 1, 2, 0, 1,\n",
              "       0, 2, 2, 2, 2, 2, 0, 0])"
            ]
          },
          "metadata": {
            "tags": []
          },
          "execution_count": 37
        }
      ]
    },
    {
      "cell_type": "markdown",
      "metadata": {
        "id": "qbEyjYRynrOt",
        "colab_type": "text"
      },
      "source": [
        "## Step 4: Evaluate the frist model's predictions\n",
        "\n",
        "We will learn more about how to evaluate the performance of a classifier in later lessons. For now we will use % accuracy as our metric. It is important to know that this metric only helps us understand the specific performance of our model and not, for example, where we can improve it, or where it already perfoms well.\n",
        "\n",
        "1. Use ```.score()``` to evaluate the performance of our first model."
      ]
    },
    {
      "cell_type": "code",
      "metadata": {
        "id": "B9ai4o8YnrOt",
        "colab_type": "code",
        "outputId": "d6445749-5072-46fb-8b37-bf9f55270f8c",
        "colab": {}
      },
      "source": [
        "#evaluating the performace of our first model\n",
        "#your code here\n",
        "\n"
      ],
      "execution_count": 0,
      "outputs": [
        {
          "output_type": "execute_result",
          "data": {
            "text/plain": [
              "0.9"
            ]
          },
          "metadata": {
            "tags": []
          },
          "execution_count": 38
        }
      ]
    },
    {
      "cell_type": "markdown",
      "metadata": {
        "id": "pfOvvqSTnrOz",
        "colab_type": "text"
      },
      "source": [
        "## Step 5: Crossvalidation of the model\n",
        "Our first model achived ~90% accruacy. This is quite good. How do we know it is reproducable? If we run the model again and our performance is 85% which is correct? And what about improving our model? Can you think of one thing we can do to potentially improve the model?\n",
        "\n",
        "#### Crossvalidation\n",
        "Corssvalidation is when we create multiple X and Y datasets. On each dataset we train and fit the model. We then average the results and return a 'crossvalidated' accruacy.\n",
        "\n",
        "1. Initalize a new version of the model you trained above with the same paramters.\n",
        "2. Use ```cross_validate()``` to run the model with 5 crossvalidation folds. "
      ]
    },
    {
      "cell_type": "code",
      "metadata": {
        "id": "WsHnaSncnrO0",
        "colab_type": "code",
        "outputId": "3cbb1f14-cae9-43ce-9be5-ac36ae856987",
        "colab": {}
      },
      "source": [
        "#model with cross validation\n",
        "#your code here\n",
        "\n"
      ],
      "execution_count": 0,
      "outputs": [
        {
          "output_type": "stream",
          "text": [
            "Crossvalidation fold: 0  Accruacy: 0.68\n",
            "Crossvalidation fold: 1  Accruacy: 0.8333333333333334\n",
            "Crossvalidation fold: 2  Accruacy: 0.8333333333333334\n",
            "Crossvalidation fold: 3  Accruacy: 0.875\n",
            "Crossvalidation fold: 4  Accruacy: 0.7391304347826086\n",
            "Mean train cross validation score 0.792159420289855\n"
          ],
          "name": "stdout"
        }
      ]
    },
    {
      "cell_type": "markdown",
      "metadata": {
        "id": "BfONhpcrnrO4",
        "colab_type": "text"
      },
      "source": [
        "## Step 6: Creating an end to end ML pipeline\n",
        "Congraulations you've trained, crossvalidated, predicted, and evaluated your frist classifier. Now that you understand the basic steps we will look at a way to combine all these steps together.\n",
        "\n",
        "Before we go further think about what you would have to do if you wanted to change the model. Intalize a new model, change the vairables, redo the cross validation...etc. Seems like a lot. And when we have to change lots of code it is easy to make mistakes. And what if you wanted to try many models and see which one performed best? Or try changing many different features? How could you do it without writing each one out as we have?\n",
        "\n",
        "The solution is to use SKLearn's pipeline class. A pipeline is an object that will execute the various steps in the machine learning process. We can choose what elements we want in the pipeline and those that we do not. Once setup, we can rapidly change models, or input data and have it return our results in an ordered way.\n",
        "\n",
        "\n",
        "1. Initalize a scaler and a classifer object like we did previously.\n",
        "2. Use the ```make_pipeline()``` function to construct a transofmraiton pipeline for the scaler and the classifier\n",
        "3. Input the pipeline object to the cross_validator and evaluate with 5 folds.\n",
        "4. Print out your results (hint: make a function for repetitve tasks like printing)"
      ]
    },
    {
      "cell_type": "code",
      "metadata": {
        "id": "VF1xKe73nrO6",
        "colab_type": "code",
        "outputId": "791ed7fd-7425-40e0-ec17-86804989aa42",
        "colab": {}
      },
      "source": [
        "#your code here"
      ],
      "execution_count": 0,
      "outputs": [
        {
          "output_type": "stream",
          "text": [
            "Crossvalidation fold: 0  Accruacy: 0.7333333333333333\n",
            "Crossvalidation fold: 1  Accruacy: 0.8333333333333334\n",
            "Crossvalidation fold: 2  Accruacy: 0.7666666666666667\n",
            "Crossvalidation fold: 3  Accruacy: 0.8666666666666667\n",
            "Crossvalidation fold: 4  Accruacy: 0.8666666666666667\n",
            "Mean train cross validation score 0.8133333333333332\n"
          ],
          "name": "stdout"
        }
      ]
    },
    {
      "cell_type": "markdown",
      "metadata": {
        "id": "Pcs_RseLnrO9",
        "colab_type": "text"
      },
      "source": [
        "## Challenge Exercise\n",
        "\n",
        "In this notebook we only used two features to predict the class of the flower. We also did not do any hypter parameter tuning. The challenge is to impove the prediction results. Some ideas we can try:\n",
        "1. Add features to the input and run the cross validation pipeline\n",
        "2. Investigate how to use ```GridSearchCV```, a powerful funtion that searches through hyperparmetrs and does cross validation.\n",
        "    - Hint: Input the pipeline directly into GridSearchCV\n",
        "3. Try a different models like RandomForest or SVM."
      ]
    },
    {
      "cell_type": "code",
      "metadata": {
        "id": "cubixweBnrO_",
        "colab_type": "code",
        "colab": {}
      },
      "source": [
        "#your challenge code here"
      ],
      "execution_count": 0,
      "outputs": []
    }
  ]
}